{
 "cells": [
  {
   "cell_type": "code",
   "execution_count": 1,
   "metadata": {},
   "outputs": [
    {
     "data": {
      "text/html": [
       "<script>\n",
       "code_show=true; \n",
       "function code_toggle() {\n",
       " if (code_show){\n",
       " $('div.input').hide();\n",
       " } else {\n",
       " $('div.input').show();\n",
       " }\n",
       " code_show = !code_show\n",
       "} \n",
       "$( document ).ready(code_toggle);\n",
       "</script>\n",
       "<form action=\"javascript:code_toggle()\"><input type=\"submit\" value=\"Click here to toggle on/off the raw code.\"></form>"
      ],
      "text/plain": [
       "<IPython.core.display.HTML object>"
      ]
     },
     "execution_count": 1,
     "metadata": {},
     "output_type": "execute_result"
    }
   ],
   "source": [
    "from IPython.display import HTML\n",
    "\n",
    "HTML('''<script>\n",
    "code_show=true; \n",
    "function code_toggle() {\n",
    " if (code_show){\n",
    " $('div.input').hide();\n",
    " } else {\n",
    " $('div.input').show();\n",
    " }\n",
    " code_show = !code_show\n",
    "} \n",
    "$( document ).ready(code_toggle);\n",
    "</script>\n",
    "<form action=\"javascript:code_toggle()\"><input type=\"submit\" value=\"Click here to toggle on/off the raw code.\"></form>''')"
   ]
  },
  {
   "cell_type": "markdown",
   "metadata": {},
   "source": [
    "# The Diamond OLG Model"
   ]
  },
  {
   "cell_type": "markdown",
   "metadata": {},
   "source": [
    "### Convergence of OLG Economy to Steady State"
   ]
  },
  {
   "cell_type": "markdown",
   "metadata": {},
   "source": [
    "We set the sliders to the value discussed in the concerned question (d) and arrive to same conclusions as derived analytically."
   ]
  },
  {
   "cell_type": "code",
   "execution_count": 2,
   "metadata": {},
   "outputs": [],
   "source": [
    "# Some initial setup\n",
    "\n",
    "import sys \n",
    "import os\n",
    "sys.path.insert(0, os.path.abspath('../lib'))\n",
    "\n",
    "\n",
    "from matplotlib import pyplot as plt\n",
    "import numpy as np\n",
    "plt.style.use('seaborn-darkgrid')\n",
    "palette = plt.get_cmap('Dark2')\n",
    "from copy  import deepcopy\n",
    "\n",
    "from ipywidgets import interact, interactive, fixed, interact_manual\n",
    "import ipywidgets as widgets"
   ]
  },
  {
   "cell_type": "code",
   "execution_count": 3,
   "metadata": {},
   "outputs": [],
   "source": [
    "# Define a function that plots something given some inputs\n",
    "\n",
    "def plot1(Epsilon, DiscFac, PopGrowth, YearsPerGeneration, kMax, Initialk):\n",
    "    '''Inputs:\n",
    "        Epsilon: Elasticity of output with respect to capital/labour ratio\n",
    "        DiscFac: One period discount factor\n",
    "        YearPerGeneration: No. of years per generation\n",
    "        PopGrowth: Gross growth rate of population in one period'''\n",
    "    \n",
    "    # Define some parameters\n",
    "    Beta = DiscFac**YearsPerGeneration\n",
    "    xi = PopGrowth**YearsPerGeneration\n",
    "    Q = (1-Epsilon)*(Beta/(1+Beta))/xi\n",
    "    kBar = Q**(1/(1-Epsilon))\n",
    "    \n",
    "    # Plot the OLG capital accumulation curve and 45 deg line\n",
    "    plt.figure(figsize=(9,6))\n",
    "    kt_range = np.linspace(0, kMax, 1000)\n",
    "    \n",
    "    ktp1 = Q*kt_range**Epsilon\n",
    "    plt.plot(kt_range, ktp1, 'b-', label='Capital accumulation curve')\n",
    "    plt.plot(kt_range, kt_range, 'k-', label='45 Degree line')\n",
    "    \n",
    "    # Plot the path\n",
    "    kt_ar = Initialk\n",
    "    ktp1_ar = 0.\n",
    "    for i in range(3):\n",
    "        plt.arrow(kt_ar, ktp1_ar, 0., Q*kt_ar**Epsilon-ktp1_ar,\n",
    "                  length_includes_head=True,\n",
    "                  lw=0.01,\n",
    "                  width=0.0005,\n",
    "                  color='black',\n",
    "                  edgecolor=None)\n",
    "        plt.arrow(kt_ar, Q*kt_ar**Epsilon, Q*kt_ar**Epsilon-kt_ar , 0.,\n",
    "                  length_includes_head=True,\n",
    "                  lw=0.01,\n",
    "                  width=0.0005,\n",
    "                  color='black',\n",
    "                  edgecolor=None)\n",
    "        kt_ar = Q*kt_ar**Epsilon\n",
    "        ktp1_ar = kt_ar\n",
    "        i = i+1  \n",
    "    \n",
    "    # Plot kbar and initial k\n",
    "    plt.plot(kBar, kBar, 'ro', label='kBar')\n",
    "    plt.plot(Initialk, 0.0005, 'co', label = 'Initialk')\n",
    "    \n",
    "    plt.legend()\n",
    "    plt.xlim(0 ,kMax)\n",
    "    plt.ylim(0, kMax)\n",
    "    plt.xlabel('$k_t$')\n",
    "    plt.ylabel('$k_{t+1}$')\n",
    "    plt.show()\n",
    "\n",
    "    return None"
   ]
  },
  {
   "cell_type": "code",
   "execution_count": 4,
   "metadata": {},
   "outputs": [],
   "source": [
    "# Define some widgets to control the plot\n",
    "\n",
    "# Define a slider for Epsilon\n",
    "Epsilon_widget1 = widgets.FloatSlider(\n",
    "    min=0.1,\n",
    "    max=.6,\n",
    "    step=0.001,\n",
    "    value=0.33,\n",
    "    continuous_update=True,\n",
    "    readout_format='.3f',\n",
    "    description='$\\epsilon$')\n",
    "\n",
    "# Define a slider for the discount factor\n",
    "DiscFac_widget1 = widgets.FloatSlider(\n",
    "    min=.9,\n",
    "    max=1.,\n",
    "    step=0.0001,\n",
    "    value=0.96,\n",
    "    continuous_update=True,\n",
    "    readout_format='.3f',\n",
    "    description='$Disc. Fac$')\n",
    "\n",
    "# Define a slider for pop. growth\n",
    "PopGrowth_widget1 = widgets.FloatSlider(\n",
    "    min=0.98,\n",
    "    max=1.05,\n",
    "    step=0.001,\n",
    "    value=1.01,\n",
    "    continuous_update=True,\n",
    "    readout_format='.3f',\n",
    "    description='$Pop. growth$')\n",
    "\n",
    "# Define a slider for years per generation\n",
    "YearsPerGeneration_widget1 = widgets.FloatSlider(\n",
    "    min=20.,\n",
    "    max=50,\n",
    "    step=1,\n",
    "    value=30,\n",
    "    continuous_update=True,\n",
    "    readout_format='.0f',\n",
    "    description='$YrsPerGen$')\n",
    "\n",
    "# Define a slider for initial k\n",
    "Initialk_widget1 = widgets.FloatSlider(\n",
    "    min=0.0000001,\n",
    "    max=0.05,\n",
    "    step=0.0001,\n",
    "    value=.01,\n",
    "    continuous_update=True,\n",
    "    readout_format='.3f',\n",
    "    description='$Initial k$')\n",
    "\n",
    "# Define a textbox for k max\n",
    "kMax_widget1 = widgets.FloatText(\n",
    "    value=0.05,\n",
    "    step=0.01,\n",
    "    description='$kMax$',\n",
    "    disabled=False)"
   ]
  },
  {
   "cell_type": "code",
   "execution_count": 5,
   "metadata": {},
   "outputs": [
    {
     "data": {
      "application/vnd.jupyter.widget-view+json": {
       "model_id": "1fab812ca5ba479fbf99cc9696fb2b28",
       "version_major": 2,
       "version_minor": 0
      },
      "text/plain": [
       "aW50ZXJhY3RpdmUoY2hpbGRyZW49KEZsb2F0U2xpZGVyKHZhbHVlPTAuMzMsIGRlc2NyaXB0aW9uPXUnJFxcZXBzaWxvbiQnLCBtYXg9MC42LCBtaW49MC4xLCByZWFkb3V0X2Zvcm1hdD11Jy7igKY=\n"
      ]
     },
     "metadata": {},
     "output_type": "display_data"
    },
    {
     "data": {
      "application/vnd.jupyter.widget-view+json": {
       "model_id": "1034fbd8e2af45079caf83ae2d9026b9",
       "version_major": 2,
       "version_minor": 0
      },
      "text/plain": [
       "aW50ZXJhY3RpdmUoY2hpbGRyZW49KEZsb2F0U2xpZGVyKHZhbHVlPTAuMzMsIGRlc2NyaXB0aW9uPXUnJFxcZXBzaWxvbiQnLCBtYXg9MC42LCBtaW49MC4xLCByZWFkb3V0X2Zvcm1hdD11Jy7igKY=\n"
      ]
     },
     "metadata": {},
     "output_type": "display_data"
    }
   ],
   "source": [
    "# Make the widget\n",
    "\n",
    "interact(plot1,\n",
    "         Epsilon = Epsilon_widget1,\n",
    "         DiscFac = DiscFac_widget1,\n",
    "         PopGrowth = PopGrowth_widget1,\n",
    "         YearsPerGeneration = YearsPerGeneration_widget1,\n",
    "         Initialk = Initialk_widget1,\n",
    "         kMax = kMax_widget1,\n",
    "        );\n",
    "\n",
    "\n",
    "interact(plot1,\n",
    "         Epsilon = Epsilon_widget1,\n",
    "         DiscFac = DiscFac_widget1,\n",
    "         PopGrowth = 1.03,\n",
    "         YearsPerGeneration = YearsPerGeneration_widget1,\n",
    "         Initialk = Initialk_widget1,\n",
    "         kMax = kMax_widget1,\n",
    "        );"
   ]
  }
 ],
 "metadata": {
  "kernelspec": {
   "display_name": "Python 2",
   "language": "python",
   "name": "python2"
  },
  "language_info": {
   "codemirror_mode": {
    "name": "ipython",
    "version": 2
   },
   "file_extension": ".py",
   "mimetype": "text/x-python",
   "name": "python",
   "nbconvert_exporter": "python",
   "pygments_lexer": "ipython2",
   "version": "2.7.15"
  }
 },
 "nbformat": 4,
 "nbformat_minor": 2
}
