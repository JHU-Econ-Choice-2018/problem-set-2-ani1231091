{
 "cells": [
  {
   "cell_type": "code",
   "execution_count": 1,
   "metadata": {},
   "outputs": [
    {
     "data": {
      "application/javascript": [
       "MathJax.Hub.Config({\n",
       "    TeX: { equationNumbers: { autoNumber: \"AMS\" } }\n",
       "});"
      ],
      "text/plain": [
       "<IPython.core.display.Javascript object>"
      ]
     },
     "metadata": {},
     "output_type": "display_data"
    }
   ],
   "source": [
    "%%javascript\n",
    "MathJax.Hub.Config({\n",
    "    TeX: { equationNumbers: { autoNumber: \"AMS\" } }\n",
    "});"
   ]
  },
  {
   "cell_type": "markdown",
   "metadata": {},
   "source": [
    "# Question1\n",
    "\n",
    "# Answer 1 \n",
    "\n",
    "\n",
    "(If taxes kept constant) If taxes when young are kept constant, then benefits of the old generation\n",
    "adjusts to the quantum of revenus from the young which implies that\n",
    "when the boomers are young, their parents have large benefits, and\n",
    "when the boomers are old, their own benefits will be small because the\n",
    "smaller ne generation will not be paying much in aggregate.\n",
    "\n",
    "(If Benefits kept constant)\n",
    "If benefits when old are kept constant, then taxes on the boomers when\n",
    "they are young will be low but taxes on the next generation must be high\n",
    "to finance the benefits of the boomer generation (smaller number so tax rates need to be higher).\n",
    "\n",
    "# Implications\n",
    "THE MODEL CANNOT ALLOW FOR TAX/BENEFITS RATIO TO BE CONSTANT.\n"
   ]
  },
  {
   "cell_type": "markdown",
   "metadata": {},
   "source": [
    "# Question 2\n",
    "Population Growth and Dynamic Inefficiency in the OLG model (Diamond 1965)\n"
   ]
  },
  {
   "cell_type": "markdown",
   "metadata": {},
   "source": [
    "a) We start with the model we have in our lecture notes. Let’s normalize everything by the period-t young population $N_{t}$\n",
    ", writing normalized\n",
    "variables in lower case. Thus, the per-young-capita aggregate production function\n",
    "becomes\n",
    "$$\n",
    "\\begin{array}{c}\n",
    "f(k_{t})=F(K_{t}/N_{t},1) \\\\\\\n",
    "\\end{array}\n",
    "$$\n",
    "\n",
    "The perfect competition assumption implies that wages and net interest rates are equal to the marginal products of labor and capital, respectively:\n",
    "\n",
    "$$\n",
    "\\begin{array}{c}\n",
    "W_{t}=f(k_{t})-k_{t}*f'(k_{t}) \\\\\\\n",
    "r_{t}=f'(k_{t})\n",
    "\\end{array}\n",
    "$$\n",
    "\n",
    "Making specific assumptions about the utility function (CRRA utility) and the aggregate production function (Cobb Douglas),\n",
    "we solve for the wages and interest rates,\n",
    "$$\n",
    "\\begin{array}{c}\n",
    "W_{t}=(1-\\epsilon)*k_{t}^\\epsilon \\\\\\\n",
    "r_{t}=\\epsilon*k_{t}^{\\epsilon-1}\\\\\\\n",
    "\\end{array}\n",
    "$$\n",
    "\n",
    "The individual's maximisation problem yields the Euler equation and following the derivation in notes,\n",
    "$$\n",
    "\\begin{array}{c}\n",
    "k_{t+1}=\\frac{(1-\\epsilon)\\beta}{G_{t+1}(1+\\beta)}*k_{t}^\\epsilon \\\\\\\n",
    "\\end{array}\n",
    "$$\n",
    "where $k_{t+1}=a_{1,t}/G_{t+1}$, $G_{t+1}$ is the growth factor of population of young people."
   ]
  },
  {
   "cell_type": "markdown",
   "metadata": {},
   "source": [
    "b) The economy achieves if the rate of population growth is constant at $G_{t+1}=G$ for every t.\n",
    "At the steady state, $k_{t+1}=k_{t}=\\bar{k}$. Putting this in the dynamic capital equation,\n",
    "$$\n",
    "\\begin{array}{c}\n",
    "\\bar{k}=[\\frac{(1-\\epsilon)\\beta}{G(1+\\beta)}]^\\frac{1}{1-\\epsilon} \\\\\\\n",
    "\\end{array}\n",
    "$$\n",
    "\n",
    "Now suppose that the economy had been growing by this constant factor since the beginning of time, but all of a sudden at the beginning of period t\n",
    "everybody learns that henceforth and forever more, population will grow at\n",
    "a faster rate than before,$\\hat{G}>G$, then the steady state per-capita capital stock will decrease. \n"
   ]
  },
  {
   "cell_type": "markdown",
   "metadata": {},
   "source": [
    "# c) Steady state per-capita capital stock will decrease\n",
    "With faster population growth and $0<\\epsilon<1$, the young generation is larger relative to the size of the capital stock saved by the previous generation, so the ratio of capital to labor is smaller, hence the steady state per-capita capital stock will decrease. \n",
    "\n"
   ]
  },
  {
   "cell_type": "markdown",
   "metadata": {},
   "source": [
    "d) Yes the graphs do support the results I derive here. The graphs can be accessed under the DiamondOLG.ipynb notebook."
   ]
  },
  {
   "cell_type": "markdown",
   "metadata": {},
   "source": [
    "e) Using the t period resource constraint,\n",
    "$$\n",
    "\\begin{array}{c}\n",
    "K_{t+1}= K_{t}+K_{t}^\\alpha L_{t}^{1-\\alpha}-C_{1,t}-C_{2,t} \\\\\\\n",
    "k_{t+1}G=k_{t}+k_{t}^{\\alpha}+\\gamma_{t} \\\\\\\n",
    "\\end{array}\n",
    "$$\n",
    "where $\\gamma_{t}$ is the  aggregate index of consumption per capita.\n",
    "\n",
    "The sustainable level of $\\bar{\\gamma}$ such that $k_{t+1}=k_{t}=k$,\n",
    "$$\n",
    "\\begin{array}{c}\n",
    "K_{t+1}= K_{t}+K_{t}^\\alpha L_{t}^{1-\\alpha}-C_{1,t}-C_{2,t} \\\\\\\n",
    "k_{t+1}G=k_{t}+k_{t}^{\\alpha}+\\gamma_{t} \\\\\\\n",
    "\\bar{\\gamma}=\\theta k-k^{\\alpha}\\\\\\\n",
    "\\end{array}\n",
    "$$\n",
    "where $G=(1+\\theta)$\n",
    ".We could also derive the same formula from the definition of aggregate consumption.\n"
   ]
  },
  {
   "cell_type": "markdown",
   "metadata": {},
   "source": [
    "f) From analysis above, higher value of $\\theta$ $(G=1+\\theta)$  will decrease the steady-state capital stock per capita. But we also know\n",
    "that decrease in per capita capital will only result in increase in consumption per capita if dynamic efficiency fails. In our case, that is always true (dynamic efficiency holds).By defining $\\gamma=\\bar{c_{1,t}}+\\bar{c_{2,t}}/G$ and calculating the values of $\\bar{c_{1}}$, $\\bar{c_{2}}$, $\\bar{\\gamma}$ could be expressed as \n",
    "$$\n",
    "\\begin{array}{c}\n",
    "\\bar{\\gamma}=(1-\\alpha)\\frac{k^{\\alpha}}{1-\\beta}+k+k^{\\alpha}\\\\\\\n",
    "\\end{array}\n",
    "$$\n",
    "\n",
    "Taking the derivate of $\\bar{\\gamma}$ with respect to $\\theta$,\n",
    "\n",
    "$$\n",
    "\\begin{array}{c}\n",
    "\\frac{d\\bar{\\gamma}}{d\\theta}=\\frac{d\\bar{\\gamma}}{dk}*\\frac{dk}{d\\theta}\\\\\\\n",
    "\\end{array}\n",
    "$$\n",
    "where these are partial derivatives.\n",
    "the first part is a bunch of constants along with k and is positive. However, $\\frac{dk}{d\\theta}$ is negative since we are in the realm of dynamic efficiency and population growth implies a lower steady state level of per capita capital (also proved above).\n",
    "\n",
    "\n"
   ]
  },
  {
   "cell_type": "code",
   "execution_count": null,
   "metadata": {},
   "outputs": [],
   "source": []
  }
 ],
 "metadata": {
  "kernelspec": {
   "display_name": "Python 2",
   "language": "python",
   "name": "python2"
  },
  "language_info": {
   "codemirror_mode": {
    "name": "ipython",
    "version": 2
   },
   "file_extension": ".py",
   "mimetype": "text/x-python",
   "name": "python",
   "nbconvert_exporter": "python",
   "pygments_lexer": "ipython2",
   "version": "2.7.15"
  }
 },
 "nbformat": 4,
 "nbformat_minor": 2
}
